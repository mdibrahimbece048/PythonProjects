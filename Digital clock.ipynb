{
 "cells": [
  {
   "cell_type": "code",
   "execution_count": 311,
   "id": "daede65d",
   "metadata": {},
   "outputs": [],
   "source": [
    "from tkinter import *# tkinter is s library"
   ]
  },
  {
   "cell_type": "code",
   "execution_count": 312,
   "id": "486717b9",
   "metadata": {},
   "outputs": [],
   "source": [
    "import datetime"
   ]
  },
  {
   "cell_type": "code",
   "execution_count": 313,
   "id": "0ec63c10",
   "metadata": {},
   "outputs": [],
   "source": [
    "clock=Tk() # it is a class"
   ]
  },
  {
   "cell_type": "code",
   "execution_count": 314,
   "id": "58c99533",
   "metadata": {},
   "outputs": [
    {
     "name": "stdout",
     "output_type": "stream",
     "text": [
      "2023-04-15 15:44:49.370487\n"
     ]
    }
   ],
   "source": [
    "print(datetime.datetime.now())"
   ]
  },
  {
   "cell_type": "code",
   "execution_count": 315,
   "id": "f804f975",
   "metadata": {},
   "outputs": [],
   "source": [
    "def date_time():\n",
    "    time=datetime.datetime.now()\n",
    "    hour=time.strftime('%I')\n",
    "    minute=time.strftime('%M')\n",
    "    second=time.strftime('%S')\n",
    "    am=time.strftime('%p')\n",
    "    \n",
    "    date=time.strftime('%d')\n",
    "    month=time.strftime('%m')\n",
    "    day=time.strftime('%a')\n",
    "    year=time.strftime('%y')\n",
    "    \n",
    "    lab_hr.config(text=hour)\n",
    "    lab_minute.config(text=minute)\n",
    "    lab_second.config(text=second)\n",
    "    lab_AM.config(text=am)\n",
    "    \n",
    "    lab_date.config(text=date)\n",
    "    lab_month.config(text=month)\n",
    "    lab_day.config(text=day)\n",
    "    lab_year.config(text=year)\n",
    "    \n",
    "    lab_hr.after(200,date_time)"
   ]
  },
  {
   "cell_type": "code",
   "execution_count": null,
   "id": "e3dbd15e",
   "metadata": {},
   "outputs": [],
   "source": []
  },
  {
   "cell_type": "code",
   "execution_count": null,
   "id": "ee73ccfe",
   "metadata": {},
   "outputs": [],
   "source": []
  },
  {
   "cell_type": "code",
   "execution_count": null,
   "id": "575942e1",
   "metadata": {},
   "outputs": [],
   "source": []
  },
  {
   "cell_type": "code",
   "execution_count": 316,
   "id": "cc51cb87",
   "metadata": {},
   "outputs": [],
   "source": [
    "### code for clock"
   ]
  },
  {
   "cell_type": "code",
   "execution_count": 317,
   "id": "cfc5677e",
   "metadata": {},
   "outputs": [
    {
     "data": {
      "text/plain": [
       "''"
      ]
     },
     "execution_count": 317,
     "metadata": {},
     "output_type": "execute_result"
    }
   ],
   "source": [
    "clock.title(\" ********** Digital Clock**********\")"
   ]
  },
  {
   "cell_type": "code",
   "execution_count": 318,
   "id": "3ac84439",
   "metadata": {},
   "outputs": [
    {
     "data": {
      "text/plain": [
       "''"
      ]
     },
     "execution_count": 318,
     "metadata": {},
     "output_type": "execute_result"
    }
   ],
   "source": [
    "clock.geometry('1000x600') ## shape of digital clock"
   ]
  },
  {
   "cell_type": "markdown",
   "id": "4a496ed5",
   "metadata": {},
   "source": [
    "# code for time "
   ]
  },
  {
   "cell_type": "code",
   "execution_count": 319,
   "id": "92fb20ee",
   "metadata": {},
   "outputs": [],
   "source": [
    "clock.config(bg='yellow') ## background color"
   ]
  },
  {
   "cell_type": "code",
   "execution_count": 320,
   "id": "fb57287a",
   "metadata": {},
   "outputs": [],
   "source": [
    "lab_hr=Label(clock,text=\"00\",font=('Time New Roman',60,\"bold\"),\n",
    "            bg='red',fg='white')\n",
    "lab_hr.place(x=120,y=40,height=110,width=100)"
   ]
  },
  {
   "cell_type": "code",
   "execution_count": 321,
   "id": "ecca1191",
   "metadata": {},
   "outputs": [],
   "source": [
    "lab_hr_text=Label(clock,text=\"Hour\",font=('Time New Roman',20,\"bold\"),\n",
    "            bg='red',fg='white')\n",
    "lab_hr_text.place(x=120,y=180,height=40,width=100)"
   ]
  },
  {
   "cell_type": "code",
   "execution_count": null,
   "id": "114c8981",
   "metadata": {},
   "outputs": [],
   "source": []
  },
  {
   "cell_type": "code",
   "execution_count": 322,
   "id": "9cd27922",
   "metadata": {},
   "outputs": [],
   "source": [
    "lab_minute=Label(clock,text=\"00\",font=('Time New Roman',60,\"bold\"),\n",
    "            bg='red',fg='white')\n",
    "lab_minute.place(x=340,y=45,height=110,width=100)"
   ]
  },
  {
   "cell_type": "code",
   "execution_count": 323,
   "id": "3021fa23",
   "metadata": {},
   "outputs": [],
   "source": [
    "lab_minute_text=Label(clock,text=\"Minute\",font=('Time New Roman',20,\"bold\"),\n",
    "            bg='red',fg='white')\n",
    "lab_minute_text.place(x=340,y=180,height=40,width=100)"
   ]
  },
  {
   "cell_type": "code",
   "execution_count": null,
   "id": "89bc3b6e",
   "metadata": {},
   "outputs": [],
   "source": []
  },
  {
   "cell_type": "code",
   "execution_count": 324,
   "id": "1b3bba34",
   "metadata": {},
   "outputs": [],
   "source": [
    "lab_second=Label(clock,text=\"00\",font=('Time New Roman',60,\"bold\"),\n",
    "            bg='red',fg='white')\n",
    "lab_second.place(x=560,y=40,height=110,width=100)"
   ]
  },
  {
   "cell_type": "code",
   "execution_count": 325,
   "id": "5428f0f6",
   "metadata": {},
   "outputs": [],
   "source": [
    "lab_second_text=Label(clock,text=\"Second\",font=('Time New Roman',20,\"bold\"),\n",
    "            bg='red',fg='white')\n",
    "lab_second_text.place(x=560,y=180,height=40,width=100)"
   ]
  },
  {
   "cell_type": "code",
   "execution_count": null,
   "id": "5e245629",
   "metadata": {},
   "outputs": [],
   "source": []
  },
  {
   "cell_type": "code",
   "execution_count": 326,
   "id": "d2c1a3d2",
   "metadata": {},
   "outputs": [],
   "source": [
    "lab_AM=Label(clock,text=\"00\",font=('Time New Roman',50,\"bold\"),\n",
    "            bg='red',fg='white')\n",
    "lab_AM.place(x=780,y=40,height=110,width=100)"
   ]
  },
  {
   "cell_type": "code",
   "execution_count": 327,
   "id": "e762a28c",
   "metadata": {},
   "outputs": [],
   "source": [
    "lab_AM_text=Label(clock,text=\"AM/PM\",font=('Time New Roman',20,\"bold\"),\n",
    "            bg='red',fg='white')\n",
    "lab_AM_text.place(x=780,y=180,height=40,width=100)"
   ]
  },
  {
   "cell_type": "markdown",
   "id": "d102ff31",
   "metadata": {},
   "source": [
    "# code for date"
   ]
  },
  {
   "cell_type": "code",
   "execution_count": 328,
   "id": "49657f53",
   "metadata": {},
   "outputs": [],
   "source": [
    "lab_date=Label(clock,text=\"00\",font=('Time New Roman',60,\"bold\"),\n",
    "            bg='red',fg='white')\n",
    "lab_date.place(x=120,y=340,height=110,width=100)"
   ]
  },
  {
   "cell_type": "code",
   "execution_count": 329,
   "id": "2f01fa14",
   "metadata": {},
   "outputs": [],
   "source": [
    "lab_date_text=Label(clock,text=\"Date\",font=('Time New Roman',20,\"bold\"),\n",
    "            bg='red',fg='white')\n",
    "lab_date_text.place(x=120,y=470,height=40,width=100)"
   ]
  },
  {
   "cell_type": "code",
   "execution_count": null,
   "id": "349148d5",
   "metadata": {},
   "outputs": [],
   "source": []
  },
  {
   "cell_type": "code",
   "execution_count": 330,
   "id": "aaea565b",
   "metadata": {},
   "outputs": [],
   "source": [
    "lab_month=Label(clock,text=\"00\",font=('Time New Roman',60,\"bold\"),\n",
    "            bg='red',fg='white')\n",
    "lab_month.place(x=340,y=340,height=110,width=100)"
   ]
  },
  {
   "cell_type": "code",
   "execution_count": 331,
   "id": "869391e4",
   "metadata": {},
   "outputs": [],
   "source": [
    "lab_month_text=Label(clock,text=\"Month\",font=('Time New Roman',20,\"bold\"),\n",
    "            bg='red',fg='white')\n",
    "lab_month_text.place(x=340,y=470,height=40,width=100)"
   ]
  },
  {
   "cell_type": "code",
   "execution_count": null,
   "id": "e962a850",
   "metadata": {},
   "outputs": [],
   "source": []
  },
  {
   "cell_type": "code",
   "execution_count": 332,
   "id": "d6f9ad05",
   "metadata": {},
   "outputs": [],
   "source": [
    "lab_day=Label(clock,text=\"00\",font=('Time New Roman',40,\"bold\"),\n",
    "            bg='red',fg='white')\n",
    "lab_day.place(x=560,y=340,height=110,width=100)"
   ]
  },
  {
   "cell_type": "code",
   "execution_count": 333,
   "id": "bc9569e6",
   "metadata": {},
   "outputs": [],
   "source": [
    "lab_day_text=Label(clock,text=\"Day\",font=('Time New Roman',20,\"bold\"),\n",
    "            bg='red',fg='white')\n",
    "lab_day_text.place(x=560,y=470,height=40,width=100)"
   ]
  },
  {
   "cell_type": "code",
   "execution_count": null,
   "id": "e8f861f2",
   "metadata": {},
   "outputs": [],
   "source": []
  },
  {
   "cell_type": "code",
   "execution_count": 334,
   "id": "e8ddfa3a",
   "metadata": {},
   "outputs": [],
   "source": [
    "lab_year=Label(clock,text=\"00\",font=('Time New Roman',60,\"bold\"),\n",
    "            bg='red',fg='white')\n",
    "lab_year.place(x=780,y=340,height=110,width=100)"
   ]
  },
  {
   "cell_type": "code",
   "execution_count": 335,
   "id": "a8351644",
   "metadata": {},
   "outputs": [],
   "source": [
    "lab_day_text=Label(clock,text=\"year\",font=('Time New Roman',20,\"bold\"),\n",
    "            bg='red',fg='white')\n",
    "lab_day_text.place(x=780,y=470,height=40,width=100)"
   ]
  },
  {
   "cell_type": "code",
   "execution_count": 336,
   "id": "30c98239",
   "metadata": {},
   "outputs": [],
   "source": [
    "date_time() ### Function call"
   ]
  },
  {
   "cell_type": "code",
   "execution_count": 337,
   "id": "0be8b47a",
   "metadata": {},
   "outputs": [],
   "source": [
    "clock.mainloop()"
   ]
  },
  {
   "cell_type": "code",
   "execution_count": null,
   "id": "23ac7691",
   "metadata": {},
   "outputs": [],
   "source": []
  },
  {
   "cell_type": "code",
   "execution_count": null,
   "id": "2a25f06a",
   "metadata": {},
   "outputs": [],
   "source": []
  }
 ],
 "metadata": {
  "kernelspec": {
   "display_name": "Python 3 (ipykernel)",
   "language": "python",
   "name": "python3"
  },
  "language_info": {
   "codemirror_mode": {
    "name": "ipython",
    "version": 3
   },
   "file_extension": ".py",
   "mimetype": "text/x-python",
   "name": "python",
   "nbconvert_exporter": "python",
   "pygments_lexer": "ipython3",
   "version": "3.9.13"
  }
 },
 "nbformat": 4,
 "nbformat_minor": 5
}
